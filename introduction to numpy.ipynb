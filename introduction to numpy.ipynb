{
 "cells": [
  {
   "cell_type": "code",
   "execution_count": 3,
   "metadata": {},
   "outputs": [
    {
     "name": "stdout",
     "output_type": "stream",
     "text": [
      "<class 'numpy.ndarray'>\n",
      "(3,)\n",
      "int32\n"
     ]
    }
   ],
   "source": [
    "import numpy as np\n",
    "a=np.array([1,2,3])\n",
    "print(type(a))             #1-D array\n",
    "print(a.shape)\n",
    "print(a.dtype)"
   ]
  },
  {
   "cell_type": "code",
   "execution_count": 18,
   "metadata": {},
   "outputs": [
    {
     "name": "stdout",
     "output_type": "stream",
     "text": [
      "(3, 2)\n",
      "1 23 46\n"
     ]
    }
   ],
   "source": [
    "import numpy as np\n",
    "b=np.array([[1,23],[23,46],[1,23]])\n",
    "print(b.shape)                     #2-D array\n",
    "print(b[0,0],b[0,1],b[1,1])"
   ]
  },
  {
   "cell_type": "code",
   "execution_count": 5,
   "metadata": {},
   "outputs": [
    {
     "name": "stdout",
     "output_type": "stream",
     "text": [
      "[[0. 0.]\n",
      " [0. 0.]]\n"
     ]
    }
   ],
   "source": [
    "#FUNCTION  np.ZEROS() \n",
    "import numpy as np\n",
    "c=np.zeros((2,2))\n",
    "print(c)"
   ]
  },
  {
   "cell_type": "code",
   "execution_count": 17,
   "metadata": {},
   "outputs": [
    {
     "name": "stdout",
     "output_type": "stream",
     "text": [
      "[[1. 1.]]\n"
     ]
    }
   ],
   "source": [
    "#FUNCTION np.ONES()\n",
    "import numpy as np\n",
    "d=np.ones((1,2))\n",
    "print(d)"
   ]
  },
  {
   "cell_type": "code",
   "execution_count": 3,
   "metadata": {},
   "outputs": [
    {
     "name": "stdout",
     "output_type": "stream",
     "text": [
      "[[3 3]\n",
      " [3 3]\n",
      " [3 3]]\n"
     ]
    }
   ],
   "source": [
    "#FUNCTION np.FULL()\n",
    "import numpy as np\n",
    "d=np.full((3,2),3) #PRINTS THE SAME VALUE IN ENTIRE ARRAY\n",
    "print(d)"
   ]
  },
  {
   "cell_type": "code",
   "execution_count": 21,
   "metadata": {},
   "outputs": [
    {
     "name": "stdout",
     "output_type": "stream",
     "text": [
      "[[1. 0. 0. 0. 0.]\n",
      " [0. 1. 0. 0. 0.]\n",
      " [0. 0. 1. 0. 0.]\n",
      " [0. 0. 0. 1. 0.]\n",
      " [0. 0. 0. 0. 1.]]\n"
     ]
    }
   ],
   "source": [
    "#FUNCTION np.EYE()\n",
    "import numpy as np\n",
    "d=np.eye(5)\n",
    "print(d)"
   ]
  },
  {
   "cell_type": "code",
   "execution_count": 23,
   "metadata": {},
   "outputs": [
    {
     "name": "stdout",
     "output_type": "stream",
     "text": [
      "(2,)\n"
     ]
    }
   ],
   "source": [
    "#FUNCTION np.ARRAY\n",
    "import numpy as np\n",
    "b=np.array([[1,23,45,50],[3,4]])\n",
    "print(b.shape)"
   ]
  },
  {
   "cell_type": "code",
   "execution_count": 23,
   "metadata": {},
   "outputs": [
    {
     "name": "stdout",
     "output_type": "stream",
     "text": [
      "[[0.66083078 0.09765014 0.79452382]\n",
      " [0.88363124 0.44590623 0.3253673 ]\n",
      " [0.70082944 0.98261912 0.21133248]]\n"
     ]
    }
   ],
   "source": [
    "#FUNCTION np.RANDOM.RANDOM() OR  np.RANDOM.RAND\n",
    "import numpy as np\n",
    "e=np.random.random((3,3))#two brazes are important\n",
    "print(e)  \n"
   ]
  },
  {
   "cell_type": "code",
   "execution_count": 3,
   "metadata": {},
   "outputs": [
    {
     "name": "stdout",
     "output_type": "stream",
     "text": [
      "[[0.10127135 0.92460323 0.69360837 0.03234409 0.53421481]\n",
      " [0.11560611 0.18545336 0.06997421 0.06818721 0.82392458]\n",
      " [0.46185668 0.60887304 0.49561008 0.63333951 0.10260124]]\n"
     ]
    }
   ],
   "source": [
    "#RANDOM\n",
    "import numpy as np\n",
    "f=np.random.rand(3,5)\n",
    "print(f)"
   ]
  },
  {
   "cell_type": "code",
   "execution_count": 6,
   "metadata": {},
   "outputs": [
    {
     "data": {
      "text/plain": [
       "(3, 2, 2)"
      ]
     },
     "execution_count": 6,
     "metadata": {},
     "output_type": "execute_result"
    }
   ],
   "source": [
    "#RAVEL FUNCTION\n",
    "a=np.array([[[1,2],[3,4]],[[5,6],[7,8]],[[8,8],[9,3]]])\n",
    "a.ravel()\n",
    "a.shape"
   ]
  },
  {
   "cell_type": "code",
   "execution_count": 26,
   "metadata": {},
   "outputs": [],
   "source": [
    "#some of the other functions are\n",
    "#sum(axis=0)  #it sums column wise\n",
    "#sum(axis=1)  #it sums row wise"
   ]
  },
  {
   "cell_type": "code",
   "execution_count": 7,
   "metadata": {},
   "outputs": [
    {
     "name": "stdout",
     "output_type": "stream",
     "text": [
      "(3, 2, 2)\n",
      "[[[1 2]\n",
      "  [3 4]\n",
      "  [5 6]]\n",
      "\n",
      " [[7 8]\n",
      "  [8 8]\n",
      "  [9 3]]]\n"
     ]
    }
   ],
   "source": [
    "#RESHAPE\n",
    "a=np.array([[[1,2],[3,4]],[[5,6],[7,8]],[[8,8],[9,3]]])\n",
    "print(a.shape)\n",
    "b=a.reshape(2,3,2)\n",
    "print(b)"
   ]
  },
  {
   "cell_type": "code",
   "execution_count": 9,
   "metadata": {},
   "outputs": [
    {
     "name": "stdout",
     "output_type": "stream",
     "text": [
      "[[1 2]\n",
      " [3 4]\n",
      " [5 6]\n",
      " [1 2]\n",
      " [3 4]\n",
      " [5 6]]\n"
     ]
    }
   ],
   "source": [
    "#TO CONCATENATE BOTH ARRAYS VERTICALLY INTO A ARRAY\n",
    "a=np.array([[1,2],[3,4],[5,6]])\n",
    "b=np.array([[1,2],[3,4],[5,6]])\n",
    "alldata=np.concatenate((a,b),axis=0)\n",
    "print(alldata)"
   ]
  },
  {
   "cell_type": "code",
   "execution_count": 6,
   "metadata": {},
   "outputs": [
    {
     "name": "stdout",
     "output_type": "stream",
     "text": [
      "[[1 2]\n",
      " [3 4]\n",
      " [5 6]\n",
      " [1 2]\n",
      " [3 4]\n",
      " [5 6]]\n"
     ]
    }
   ],
   "source": [
    "#TO CONCATENATE BOTH ARRAYS VERTICALLY INTO A ARRAY\n",
    "a=np.array([[1,2],[3,4],[5,6]])\n",
    "b=np.array([[1,2],[3,4],[5,6]])\n",
    "alldata=np.concatenate((a,b))\n",
    "print(alldata)"
   ]
  },
  {
   "cell_type": "code",
   "execution_count": 5,
   "metadata": {},
   "outputs": [
    {
     "name": "stdout",
     "output_type": "stream",
     "text": [
      "[[1 2 1 2]\n",
      " [3 4 3 4]\n",
      " [5 6 5 6]]\n"
     ]
    }
   ],
   "source": [
    "#TO CONCATENATE BOTH ARRAYS VERTICALLY INTO A ARRAY\n",
    "a=np.array([[1,2],[3,4],[5,6]])\n",
    "b=np.array([[1,2],[3,4],[5,6]])\n",
    "alldata=np.concatenate((a,b),axis=1)\n",
    "print(alldata)"
   ]
  }
 ],
 "metadata": {
  "kernelspec": {
   "display_name": "Python 3",
   "language": "python",
   "name": "python3"
  },
  "language_info": {
   "codemirror_mode": {
    "name": "ipython",
    "version": 3
   },
   "file_extension": ".py",
   "mimetype": "text/x-python",
   "name": "python",
   "nbconvert_exporter": "python",
   "pygments_lexer": "ipython3",
   "version": "3.7.3"
  }
 },
 "nbformat": 4,
 "nbformat_minor": 2
}
